{
  "nbformat": 4,
  "nbformat_minor": 0,
  "metadata": {
    "colab": {
      "provenance": [],
      "authorship_tag": "ABX9TyMrOtrJnfJ8nahWBVFNEU5l",
      "include_colab_link": true
    },
    "kernelspec": {
      "name": "python3",
      "display_name": "Python 3"
    },
    "language_info": {
      "name": "python"
    }
  },
  "cells": [
    {
      "cell_type": "markdown",
      "metadata": {
        "id": "view-in-github",
        "colab_type": "text"
      },
      "source": [
        "<a href=\"https://colab.research.google.com/github/scarebats/Machine-Learning-2025/blob/main/JS06_2341720047_AHMAD%20NAUFAL%20ILHAM.ipynb\" target=\"_parent\"><img src=\"https://colab.research.google.com/assets/colab-badge.svg\" alt=\"Open In Colab\"/></a>"
      ]
    },
    {
      "cell_type": "markdown",
      "source": [
        "# **PRAKTIKUM 1**\n",
        "Pada percobaan 1 kali ini, kita akan mencoba membandingkan hasil dari exact NN dengan ANNOY. data yang kita buat adalah data random 2D, dengan 1000 data point, mencari 3 data terdekat dari query point, Metric Similarity menggunakan Euclidean, dengan 3 tree Annoy."
      ],
      "metadata": {
        "id": "J3v6s-Ias90X"
      }
    },
    {
      "cell_type": "code",
      "source": [
        "!pip install annoy -q"
      ],
      "metadata": {
        "id": "I5Uf7a-StSL3",
        "outputId": "3678c703-ab56-48ce-cef9-80a8aad3910b",
        "colab": {
          "base_uri": "https://localhost:8080/"
        }
      },
      "execution_count": 1,
      "outputs": [
        {
          "output_type": "stream",
          "name": "stdout",
          "text": [
            "\u001b[?25l     \u001b[90m━━━━━━━━━━━━━━━━━━━━━━━━━━━━━━━━━━━━━━━━\u001b[0m \u001b[32m0.0/647.5 kB\u001b[0m \u001b[31m?\u001b[0m eta \u001b[36m-:--:--\u001b[0m\r\u001b[2K     \u001b[90m━━━━━━━━━━━━━━━━━━━━━━━━━━━━━━━━━━━━━━\u001b[0m \u001b[32m647.5/647.5 kB\u001b[0m \u001b[31m28.8 MB/s\u001b[0m eta \u001b[36m0:00:00\u001b[0m\n",
            "\u001b[?25h  Preparing metadata (setup.py) ... \u001b[?25l\u001b[?25hdone\n",
            "  Building wheel for annoy (setup.py) ... \u001b[?25l\u001b[?25hdone\n"
          ]
        }
      ]
    },
    {
      "cell_type": "code",
      "source": [
        "import numpy as np\n",
        "import matplotlib.pyplot as plt\n",
        "import time\n",
        "\n",
        "from annoy import AnnoyIndex\n",
        "\n",
        "TREES = 3\n",
        "\n",
        "# 1. Dataset 2D\n",
        "np.random.seed(42)\n",
        "n_points = 100000\n",
        "X = np.random.rand(n_points, 2) * 100  # titik random dalam ruang 100x100\n",
        "\n",
        "# Query point (ambil salah satu titik random)\n",
        "query = X[np.random.randint(0, n_points)]\n",
        "\n",
        "# 2. Exact NN (brute force)\n",
        "start = time.time()\n",
        "distances = np.linalg.norm(X - query, axis=1)\n",
        "idx_exact = np.argsort(distances)[:3]  # ambil 3 terdekat\n",
        "time_exact = time.time() - start\n",
        "\n",
        "print(\"Exact NN index:\", idx_exact)\n",
        "print(\"Exact NN jarak:\", distances[idx_exact])\n",
        "print(\"Waktu Exact:\", round(time_exact*1000, 4), \"ms\")\n",
        "\n",
        "# 3. Annoy NN\n",
        "f = 2  # dimensi\n",
        "t = AnnoyIndex(f, 'angular')\n",
        "for i, vec in enumerate(X):\n",
        "    t.add_item(i, vec)\n",
        "\n",
        "t.build(TREES)  # gunakan jumlah tree dari variabel\n",
        "\n",
        "start = time.time()\n",
        "idx_ann = t.get_nns_by_vector(query, 3)  # cari 3 NN\n",
        "time_ann = time.time() - start\n",
        "\n",
        "print(\"\\nAnnoy NN index:\", idx_ann)\n",
        "print(\"Annoy NN jarak:\", [np.linalg.norm(X[i]-query) for i in idx_ann])\n",
        "print(\"Waktu Annoy:\", round(time_ann*1000, 4), \"ms\")\n",
        "\n",
        "# 4. Visualisasi hasil\n",
        "plt.figure(figsize=(6,6))\n",
        "plt.scatter(X[:,0], X[:,1], c=\"lightgray\", s=20, label=\"Dataset\")\n",
        "plt.scatter(query[0], query[1], c=\"red\", marker=\"x\", s=100, label=\"Query\")\n",
        "\n",
        "# Exact NN ditandai biru\n",
        "plt.scatter(X[idx_exact,0], X[idx_exact,1], c=\"blue\", s=80, label=\"Exact NN\")\n",
        "\n",
        "# Annoy NN ditandai hijau\n",
        "plt.scatter(X[idx_ann,0], X[idx_ann,1], c=\"green\", s=50, marker=\"s\", label=\"Annoy NN\")\n",
        "\n",
        "plt.legend()\n",
        "plt.title(f\"Exact NN vs Annoy NN ({TREES} trees)\")\n",
        "plt.show()"
      ],
      "metadata": {
        "id": "hZpIDVJ7tqXe",
        "outputId": "ffcfdcd0-34f6-40e4-dd78-53d385e7cef5",
        "colab": {
          "base_uri": "https://localhost:8080/",
          "height": 667
        }
      },
      "execution_count": 2,
      "outputs": [
        {
          "output_type": "stream",
          "name": "stdout",
          "text": [
            "Exact NN index: [64040 64186 88792]\n",
            "Exact NN jarak: [0.         0.15797867 0.25332711]\n",
            "Waktu Exact: 17.4711 ms\n",
            "\n",
            "Annoy NN index: [64040, 1310, 9720]\n",
            "Annoy NN jarak: [np.float64(0.0), np.float64(13.237907813420613), np.float64(54.73661775436655)]\n",
            "Waktu Annoy: 0.1197 ms\n"
          ]
        },
        {
          "output_type": "display_data",
          "data": {
            "text/plain": [
              "<Figure size 600x600 with 1 Axes>"
            ],
            "image/png": "[encoded data removed]"
          },
          "metadata": {}
        }
      ]
    },
    {
      "cell_type": "markdown",
      "source": [],
      "metadata": {
        "id": "49nk73zouCqZ"
      }
    },
    {
      "cell_type": "markdown",
      "source": [
        "# **PRAKTIKUM 2**"
      ],
      "metadata": {
        "id": "0x2F9wG6tGj3"
      }
    },
    {
      "cell_type": "markdown",
      "source": [
        "# **PRAKTIKUM 3**"
      ],
      "metadata": {
        "id": "6o1oQw2ZtGee"
      }
    },
    {
      "cell_type": "markdown",
      "source": [
        "# **PRAKTIKUM 4**"
      ],
      "metadata": {
        "id": "qgaGx0a5tLyx"
      }
    },
    {
      "cell_type": "markdown",
      "source": [
        "# **PRAKTIKUM 5**"
      ],
      "metadata": {
        "id": "xLlcyetutM5l"
      }
    },
    {
      "cell_type": "markdown",
      "source": [
        "# **PRAKTIKUM 6**"
      ],
      "metadata": {
        "id": "2M33a5gOtN3z"
      }
    },
    {
      "cell_type": "markdown",
      "source": [
        "# **TUGAS**"
      ],
      "metadata": {
        "id": "Qp1iaYZxtPW-"
      }
    }
  ]
}