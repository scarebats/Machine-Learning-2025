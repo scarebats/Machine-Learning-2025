{
  "nbformat": 4,
  "nbformat_minor": 0,
  "metadata": {
    "colab": {
      "provenance": [],
      "collapsed_sections": [
        "ntnnijTNE2JE"
      ],
      "authorship_tag": "ABX9TyMAZJXeJsiZ2j5JQftww1d3",
      "include_colab_link": true
    },
    "kernelspec": {
      "name": "python3",
      "display_name": "Python 3"
    },
    "language_info": {
      "name": "python"
    }
  },
  "cells": [
    {
      "cell_type": "markdown",
      "metadata": {
        "id": "view-in-github",
        "colab_type": "text"
      },
      "source": [
        "<a href=\"https://colab.research.google.com/github/scarebats/Machine-Learning-2025/blob/main/JS01_2341720047_AHMAD_NAUFAL_ILHAM.ipynb\" target=\"_parent\"><img src=\"https://colab.research.google.com/assets/colab-badge.svg\" alt=\"Open In Colab\"/></a>"
      ]
    },
    {
      "cell_type": "markdown",
      "source": [
        "# **JOBSHEET 1**\n",
        "# **BAGIAN 1**"
      ],
      "metadata": {
        "id": "ntnnijTNE2JE"
      }
    },
    {
      "cell_type": "code",
      "execution_count": null,
      "metadata": {
        "id": "N2AkXucV-Bsa"
      },
      "outputs": [],
      "source": [
        "!pip install pyprep\n",
        "!pip install scipy\n",
        "!pip install wandb\n",
        "!pip install pyecg"
      ]
    },
    {
      "cell_type": "markdown",
      "source": [
        "1. PyPREP\n",
        "- Fungsi utama: Library Python untuk preprocessing sinyal EEG (Electroencephalography).\n",
        "- Kegunaan:\n",
        "  - Membersihkan artefak sinyal EEG (misalnya gangguan dari kedipan mata, otot, atau noise listrik).\n",
        "  - Menerapkan metode PREP pipeline yang banyak dipakai di riset neuroscience.\n",
        "  - Cocok dipakai saat kita bekerja dengan data otak (EEG) agar sinyal lebih bersih sebelum dianalisis.\n",
        "\n",
        "2. SciPy\n",
        "- Fungsi utama: Library fundamental untuk komputasi ilmiah di Python.\n",
        "- Kegunaan:\n",
        "  - Menyediakan fungsi scientific computing seperti aljabar linear, optimasi, integrasi, statistik, transformasi Fourier, dan filtering sinyal.\n",
        "  - Sangat sering dipakai untuk pengolahan sinyal fisiologis (ECG, EEG) misalnya membuat bandpass filter.\n",
        "  - Bisa dibilang “alat matematika” pelengkap NumPy.\n",
        "\n",
        "3. wandb (Weights & Biases)\n",
        "- Fungsi utama: Platform experiment tracking untuk Machine Learning dan Deep Learning.\n",
        "- Kegunaan:\n",
        "  - Melacak hasil training model (loss, akurasi, learning rate).\n",
        "  - Visualisasi hasil training dalam dashboard online.\n",
        "  - Membandingkan hasil beberapa eksperimen untuk memilih model terbaik.\n",
        "  - Cocok saat mengerjakan proyek AI supaya lebih terstruktur.\n",
        "\n",
        "4. pyECG\n",
        "- Fungsi utama: Library Python untuk pengolahan sinyal ECG (Electrocardiogram).\n",
        "- Kegunaan:\n",
        "  - Deteksi puncak R (R-peak detection).\n",
        "  - Menghitung detak jantung (HR) dan variabilitas detak jantung (HRV).\n",
        "  - Analisis kualitas sinyal ECG (noise, baseline drift).\n",
        "  - Bermanfaat di bidang kesehatan, biomedis, atau riset fisiologi."
      ],
      "metadata": {
        "id": "ACspwxRtBC2O"
      }
    },
    {
      "cell_type": "markdown",
      "source": [
        "# **BAGIAN 2**\n",
        "\n",
        "### **1. Contoh Tindakan Melanggar Etika dan Hukum dalam Penggunaan Kecerdasan Buatan (AI)**\n",
        "\n",
        "- Deepfake untuk disinformasi\n",
        "  - Membuat video atau audio palsu menggunakan AI untuk menyebarkan berita bohong, merusak reputasi seseorang, atau tujuan politik.\n",
        "    - Melanggar etika (menyesatkan publik) dan hukum (pencemaran nama baik, UU ITE).\n",
        "\n",
        "- Plagiarisme dengan AI\n",
        "  - Menggunakan AI untuk menghasilkan tulisan lalu mengklaimnya sebagai karya asli tanpa menyebutkan sumber.\n",
        "    - Melanggar etika akademik dan bisa melanggar hak cipta.\n",
        "\n",
        "- Penggunaan AI untuk Cybercrime\n",
        "  - Misalnya membuat malware otomatis atau serangan phishing menggunakan model bahasa.\n",
        "    - Jelas melanggar hukum karena mengancam keamanan digital.\n",
        "\n",
        "- Diskriminasi dalam Rekrutmen\n",
        "  - Sistem AI HR yang bias (misalnya cenderung menolak kandidat perempuan karena data latih bias).\n",
        "    - Melanggar prinsip keadilan (fairness) dan berpotensi melanggar hukum ketenagakerjaan.\n",
        "\n",
        "Referensi:\n",
        "\n",
        "- Jobin, A., Ienca, M., & Vayena, E. (2019). The global landscape of AI ethics guidelines. Nature Machine Intelligence, 1(9), 389–399.\n",
        "- UU ITE Republik Indonesia No. 11 Tahun 2008 jo. 19 Tahun 2016.\n",
        "\n",
        "### **2. Dampak Energi dan Lingkungan dari Pemanfaatan AI, serta Cara Mengatasinya Dampak**\n",
        "\n",
        "- **Konsumsi Energi Besar :**\n",
        "  Melatih model AI skala besar (misalnya GPT, BERT) membutuhkan daya komputasi tinggi → konsumsi energi listrik sangat besar.\n",
        "  - Contoh: pelatihan GPT-3 diperkirakan menggunakan energi setara dengan 550 ton emisi CO₂ (Strubell et al., 2019).\n",
        "\n",
        "- **Jejak Karbon Tinggi :**\n",
        "  Pusat data yang menjalankan AI menghasilkan panas dan emisi karbon, memperburuk perubahan iklim.\n",
        "\n",
        "- **Eksploitasi Sumber Daya Alam :**\n",
        "  Kebutuhan perangkat keras (GPU, CPU, memori) memicu penambangan logam langka (lithium, cobalt) yang juga berdampak pada lingkungan.\n",
        "\n",
        "Cara Mengatasinya\n",
        "\n",
        "1. **Optimisasi Model AI**\n",
        "  - Gunakan model efficient AI (misalnya distillation, pruning, quantization) agar lebih ringan dan hemat energi.\n",
        "  - Contoh: DistilBERT lebih kecil dari BERT tapi performa tetap kompetitif.\n",
        "\n",
        "2. **Green Data Center**\n",
        "  - Menggunakan energi terbarukan (angin, surya, hidro) untuk pusat data.\n",
        "  - Google dan Microsoft sudah mulai beralih ke energi 100% terbarukan untuk server AI.\n",
        "\n",
        "3. **Efisiensi Penggunaan AI**\n",
        "  - Tidak semua masalah harus memakai model AI besar.\n",
        "  - Gunakan AI secukupnya → model kecil untuk tugas sederhana.\n",
        "\n",
        "4. **Kesadaran Lingkungan dalam Riset dan Industri**\n",
        "  - Memasukkan carbon footprint sebagai pertimbangan dalam publikasi riset AI.\n",
        "  - Dorongan kebijakan pemerintah untuk regulasi energi di pusat data.\n",
        "\n",
        "Referensi:\n",
        "\n",
        "- Strubell, E., Ganesh, A., & McCallum, A. (2019). Energy and Policy Considerations for Deep Learning in NLP. arXiv:1906.02243.\n",
        "- Schwartz, R., Dodge, J., Smith, N. A., & Etzioni, O. (2020). Green AI. Communications of the ACM, 63(12), 54–63."
      ],
      "metadata": {
        "id": "Hg1-iy-7CJTe"
      }
    }
  ]
}